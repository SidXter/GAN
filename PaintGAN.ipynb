{
  "nbformat": 4,
  "nbformat_minor": 0,
  "metadata": {
    "accelerator": "GPU",
    "colab": {
      "name": "ColorGAN_Solution.ipynb",
      "provenance": [],
      "collapsed_sections": []
    },
    "kernelspec": {
      "display_name": "Python 3",
      "name": "python3"
    },
    "language_info": {
      "name": "python"
    }
  },
  "cells": [
    {
      "cell_type": "markdown",
      "metadata": {
        "id": "YVnF24NFcuQ6"
      },
      "source": [
        "## **Mount Google Drive to store files & data**"
      ]
    },
    {
      "cell_type": "code",
      "metadata": {
        "colab": {
          "base_uri": "https://localhost:8080/"
        },
        "id": "kzVT_cB7cZFp",
        "outputId": "bac3a926-ef26-4d6e-f5f8-c4dea0f96f57"
      },
      "source": [
        "from google.colab import drive\n",
        "drive.mount('/content/drive')"
      ],
      "execution_count": 1,
      "outputs": [
        {
          "output_type": "stream",
          "name": "stdout",
          "text": [
            "Mounted at /content/drive\n"
          ]
        }
      ]
    },
    {
      "cell_type": "markdown",
      "metadata": {
        "id": "NJp-D51g0IDd"
      },
      "source": [
        "## **1) Importing Python Packages for GAN**\n"
      ]
    },
    {
      "cell_type": "code",
      "metadata": {
        "id": "1k5mFBuzzl2a"
      },
      "source": [
        "# from keras.datasets import cifar10, mnist\n",
        "from keras.models import Sequential\n",
        "from keras.layers import Reshape\n",
        "from keras.layers import Flatten\n",
        "from keras.layers import Conv2D, Dense, Conv2DTranspose\n",
        "from keras.layers import Dropout\n",
        "from keras.layers.advanced_activations import LeakyReLU\n",
        "from tensorflow.keras.optimizers import Adam\n",
        "import numpy as np\n",
        "!mkdir generated_images resized_images"
      ],
      "execution_count": 2,
      "outputs": []
    },
    {
      "cell_type": "code",
      "metadata": {
        "id": "PoRqPt1DwtD_"
      },
      "source": [
        "##!unzip the-zip-file -d name-of-destination-folder\n"
      ],
      "execution_count": null,
      "outputs": []
    },
    {
      "cell_type": "code",
      "metadata": {
        "id": "MRWx5D09dX3p"
      },
      "source": [
        "images_path = \"/content/drive/MyDrive/bobross2/\""
      ],
      "execution_count": 8,
      "outputs": []
    },
    {
      "cell_type": "markdown",
      "metadata": {
        "id": "SaoY5WTbi4dJ"
      },
      "source": [
        "## **Resizing Data to match Neural Network Input**"
      ]
    },
    {
      "cell_type": "code",
      "metadata": {
        "id": "DUJtmq0gzkSx"
      },
      "source": [
        "\n",
        "import os\n",
        "# from PIL import Image\n",
        "import cv2\n",
        "reshape_size = (64,64)\n",
        "\n",
        "i = 0\n",
        "for image in os.listdir(images_path):\n",
        "  # print(image)\n",
        "  img = cv2.imread(images_path + image)\n",
        "  img = cv2.resize(img, reshape_size)\n",
        "  cv2.imwrite(\"resized_images/%d.png\" % i,img)\n",
        "  # # print(img.shape)\n",
        "  i = i+1\n"
      ],
      "execution_count": 6,
      "outputs": []
    },
    {
      "cell_type": "markdown",
      "metadata": {
        "id": "Yr-eZOzg0X79"
      },
      "source": [
        "## **2) Parameters for Neural Networks & Data**"
      ]
    },
    {
      "cell_type": "code",
      "metadata": {
        "colab": {
          "base_uri": "https://localhost:8080/"
        },
        "id": "RThZMDruz9cB",
        "outputId": "7ea397f9-0b81-4253-a300-794478e5745e"
      },
      "source": [
        "img_width = 64\n",
        "img_height = 64\n",
        "channels = 3\n",
        "img_shape = (img_width, img_height, channels)\n",
        "latent_dim = 100\n",
        "adam = Adam(lr=0.0002)"
      ],
      "execution_count": 9,
      "outputs": [
        {
          "output_type": "stream",
          "name": "stderr",
          "text": [
            "/usr/local/lib/python3.7/dist-packages/keras/optimizer_v2/adam.py:105: UserWarning: The `lr` argument is deprecated, use `learning_rate` instead.\n",
            "  super(Adam, self).__init__(name, **kwargs)\n"
          ]
        }
      ]
    },
    {
      "cell_type": "markdown",
      "metadata": {
        "id": "U3bcJZZg0cqy"
      },
      "source": [
        "## **3) Building Generator**\n",
        "\n",
        "\n",
        "\n"
      ]
    },
    {
      "cell_type": "code",
      "metadata": {
        "id": "NdiqZpri0iQh",
        "outputId": "6e2dd4b8-0d8f-4484-e3f0-07fd1406db5c",
        "colab": {
          "base_uri": "https://localhost:8080/"
        }
      },
      "source": [
        "def build_generator():\n",
        "    model = Sequential()\n",
        "    model.add(Dense(256 * 8* 8, input_dim=latent_dim))\n",
        "    model.add(LeakyReLU(alpha=0.2))\n",
        "    model.add(Reshape((8,8,256)))\n",
        "\n",
        "    model.add(Conv2DTranspose(128, (4,4), strides=(2,2), padding='same'))\n",
        "    model.add(LeakyReLU(alpha=0.2))\n",
        "\n",
        "    model.add(Conv2DTranspose(128, (4,4), strides=(2,2), padding='same'))\n",
        "    model.add(LeakyReLU(alpha=0.2))\n",
        "\n",
        "    model.add(Conv2DTranspose(128, (4,4), strides=(2,2), padding='same'))\n",
        "    model.add(LeakyReLU(alpha=0.2))\n",
        "\n",
        "    model.add(Conv2D(3, (3,3), activation='tanh', padding='same'))\n",
        "  \n",
        "    model.summary()\n",
        "\n",
        "    return model\n",
        "\n",
        "generator = build_generator()"
      ],
      "execution_count": 10,
      "outputs": [
        {
          "output_type": "stream",
          "name": "stdout",
          "text": [
            "Model: \"sequential\"\n",
            "_________________________________________________________________\n",
            " Layer (type)                Output Shape              Param #   \n",
            "=================================================================\n",
            " dense (Dense)               (None, 16384)             1654784   \n",
            "                                                                 \n",
            " leaky_re_lu (LeakyReLU)     (None, 16384)             0         \n",
            "                                                                 \n",
            " reshape (Reshape)           (None, 8, 8, 256)         0         \n",
            "                                                                 \n",
            " conv2d_transpose (Conv2DTra  (None, 16, 16, 128)      524416    \n",
            " nspose)                                                         \n",
            "                                                                 \n",
            " leaky_re_lu_1 (LeakyReLU)   (None, 16, 16, 128)       0         \n",
            "                                                                 \n",
            " conv2d_transpose_1 (Conv2DT  (None, 32, 32, 128)      262272    \n",
            " ranspose)                                                       \n",
            "                                                                 \n",
            " leaky_re_lu_2 (LeakyReLU)   (None, 32, 32, 128)       0         \n",
            "                                                                 \n",
            " conv2d_transpose_2 (Conv2DT  (None, 64, 64, 128)      262272    \n",
            " ranspose)                                                       \n",
            "                                                                 \n",
            " leaky_re_lu_3 (LeakyReLU)   (None, 64, 64, 128)       0         \n",
            "                                                                 \n",
            " conv2d (Conv2D)             (None, 64, 64, 3)         3459      \n",
            "                                                                 \n",
            "=================================================================\n",
            "Total params: 2,707,203\n",
            "Trainable params: 2,707,203\n",
            "Non-trainable params: 0\n",
            "_________________________________________________________________\n"
          ]
        }
      ]
    },
    {
      "cell_type": "markdown",
      "metadata": {
        "id": "Bt6QsJCW0mcI"
      },
      "source": [
        "## **4) Building Discriminator**"
      ]
    },
    {
      "cell_type": "code",
      "metadata": {
        "id": "V2JzEAPv0lKt",
        "outputId": "99a62074-9925-430e-e6a0-950d77039698",
        "colab": {
          "base_uri": "https://localhost:8080/"
        }
      },
      "source": [
        "def build_discriminator():\n",
        "    model = Sequential()\n",
        "    model.add(Conv2D(64, (3,3), padding='same', input_shape=img_shape))\n",
        "    model.add(LeakyReLU(alpha=0.2))\n",
        "\n",
        "    model.add(Conv2D(128, (3,3), padding='same', ))\n",
        "    model.add(LeakyReLU(alpha=0.2))\n",
        "    \n",
        "    model.add(Conv2D(128, (3,3), padding='same'))\n",
        "    model.add(LeakyReLU(alpha=0.2))\n",
        "\n",
        "    model.add(Conv2D(256, (3,3), padding='same'))\n",
        "    model.add(LeakyReLU(alpha=0.2))\n",
        "\n",
        "    model.add(Flatten())\n",
        "    model.add(Dropout(0.4))\n",
        "    model.add(Dense(1, activation='sigmoid'))\n",
        "\n",
        "    model.summary()\n",
        "    return model\n",
        "\n",
        "discriminator = build_discriminator()\n",
        "discriminator.compile(loss='binary_crossentropy', optimizer=adam, metrics=['accuracy'])"
      ],
      "execution_count": 11,
      "outputs": [
        {
          "output_type": "stream",
          "name": "stdout",
          "text": [
            "Model: \"sequential_1\"\n",
            "_________________________________________________________________\n",
            " Layer (type)                Output Shape              Param #   \n",
            "=================================================================\n",
            " conv2d_1 (Conv2D)           (None, 64, 64, 64)        1792      \n",
            "                                                                 \n",
            " leaky_re_lu_4 (LeakyReLU)   (None, 64, 64, 64)        0         \n",
            "                                                                 \n",
            " conv2d_2 (Conv2D)           (None, 64, 64, 128)       73856     \n",
            "                                                                 \n",
            " leaky_re_lu_5 (LeakyReLU)   (None, 64, 64, 128)       0         \n",
            "                                                                 \n",
            " conv2d_3 (Conv2D)           (None, 64, 64, 128)       147584    \n",
            "                                                                 \n",
            " leaky_re_lu_6 (LeakyReLU)   (None, 64, 64, 128)       0         \n",
            "                                                                 \n",
            " conv2d_4 (Conv2D)           (None, 64, 64, 256)       295168    \n",
            "                                                                 \n",
            " leaky_re_lu_7 (LeakyReLU)   (None, 64, 64, 256)       0         \n",
            "                                                                 \n",
            " flatten (Flatten)           (None, 1048576)           0         \n",
            "                                                                 \n",
            " dropout (Dropout)           (None, 1048576)           0         \n",
            "                                                                 \n",
            " dense_1 (Dense)             (None, 1)                 1048577   \n",
            "                                                                 \n",
            "=================================================================\n",
            "Total params: 1,566,977\n",
            "Trainable params: 1,566,977\n",
            "Non-trainable params: 0\n",
            "_________________________________________________________________\n"
          ]
        }
      ]
    },
    {
      "cell_type": "markdown",
      "metadata": {
        "id": "TbcKcKmA0q2S"
      },
      "source": [
        "## **5) Connecting Neural Networks to build GAN**"
      ]
    },
    {
      "cell_type": "code",
      "metadata": {
        "id": "q0Ue3TEd0xLy"
      },
      "source": [
        "GAN = Sequential()\n",
        "discriminator.trainable = False\n",
        "GAN.add(generator)\n",
        "GAN.add(discriminator)\n",
        "\n",
        "GAN.compile(loss='binary_crossentropy', optimizer=adam)"
      ],
      "execution_count": 12,
      "outputs": []
    },
    {
      "cell_type": "code",
      "metadata": {
        "id": "EPqU8dZDaQmE"
      },
      "source": [
        "# generator.summary()\n",
        "# discriminator.summary()"
      ],
      "execution_count": null,
      "outputs": []
    },
    {
      "cell_type": "markdown",
      "metadata": {
        "id": "2WaNhBDwRwTG"
      },
      "source": [
        "## **6) Outputting Images**\n"
      ]
    },
    {
      "cell_type": "code",
      "metadata": {
        "id": "HQEJ0WbjRppy"
      },
      "source": [
        "#@title\n",
        "## **7) Outputting Images**\n",
        "import matplotlib.pyplot as plt\n",
        "import glob\n",
        "import imageio\n",
        "import PIL\n",
        "\n",
        "save_name = 0.00000000\n",
        "\n",
        "def save_imgs(epoch):\n",
        "    r, c = 4, 4\n",
        "    noise = np.random.normal(0, 1, (r * c, latent_dim))\n",
        "    gen_imgs = generator.predict(noise)\n",
        "    global save_name\n",
        "    save_name += 0.00000001\n",
        "\n",
        "    # Rescale images 0 - 1\n",
        "    gen_imgs = (gen_imgs + 1) / 2.0\n",
        "\n",
        "    fig, axs = plt.subplots(r, c)\n",
        "    cnt = 0\n",
        "    for i in range(r):\n",
        "        for j in range(c):\n",
        "            axs[i,j].imshow(gen_imgs[cnt])\n",
        "            axs[i,j].axis('off')\n",
        "            cnt += 1\n",
        "    fig.savefig(\"currentgeneration.png\")\n",
        "    fig.savefig(\"generated_images/%.8f.png\" % save_name)\n",
        "    plt.close()"
      ],
      "execution_count": 13,
      "outputs": []
    },
    {
      "cell_type": "markdown",
      "metadata": {
        "id": "tE57Lk5V0xs2"
      },
      "source": [
        "## **7) Training GAN**"
      ]
    },
    {
      "cell_type": "code",
      "metadata": {
        "colab": {
          "base_uri": "https://localhost:8080/",
          "height": 1000
        },
        "id": "egSJJvik00Iq",
        "outputId": "69d3ccdb-97b6-4600-f30d-0d5f0ef77299"
      },
      "source": [
        "from PIL import Image\n",
        "\n",
        "def train(epochs, batch_size=32, save_interval=200):\n",
        "\n",
        "  array = []\n",
        "  #PUT PATH OF RESIZED IMAGES\n",
        "  path = \"/content/resized_images/\"\n",
        "\n",
        "  for dir in os.listdir(path):\n",
        "            # print(dir)\n",
        "    image = Image.open(path + dir)\n",
        "    data = np.asarray(image)\n",
        "    array.append(data)\n",
        "\n",
        "  X_train = np.array(array)\n",
        "  print(X_train.shape)\n",
        "\n",
        "  # print(X_train.shape)\n",
        "  #Rescale data between -1 and 1\n",
        "  X_train = X_train / 127.5 -1.\n",
        "  bat_per_epo = int(X_train.shape[0] / batch_size)\n",
        "  # X_train = np.expand_dims(X_train, axis=3)\n",
        "  print(X_train.shape)\n",
        "\n",
        "  #Create our Y for our Neural Networks\n",
        "  valid = np.ones((batch_size, 1))\n",
        "  fakes = np.zeros((batch_size, 1))\n",
        "\n",
        "  for epoch in range(epochs):\n",
        "    for j in range(bat_per_epo):\n",
        "      #Get Random Batch\n",
        "      idx = np.random.randint(0, X_train.shape[0], batch_size)\n",
        "      imgs = X_train[idx]\n",
        "\n",
        "      #Generate Fake Images\n",
        "      noise = np.random.normal(0, 1, (batch_size, latent_dim))\n",
        "      gen_imgs = generator.predict(noise)\n",
        "\n",
        "      #Train discriminator\n",
        "      d_loss_real = discriminator.train_on_batch(imgs, valid)\n",
        "      d_loss_fake = discriminator.train_on_batch(gen_imgs, fakes)\n",
        "      d_loss = 0.5 * np.add(d_loss_real, d_loss_fake)\n",
        "\n",
        "      noise = np.random.normal(0, 1, (batch_size, latent_dim))\n",
        "      \n",
        "      #inverse y label\n",
        "      g_loss = GAN.train_on_batch(noise, valid)\n",
        "\n",
        "      print(\"******* %d %d [D loss: %f, acc: %.2f%%] [G loss: %f]\" % (epoch,j, d_loss[0], 100* d_loss[1], g_loss))\n",
        "\n",
        "      # if(epoch % save_interval) == 0:\n",
        "    save_imgs(epoch)\n",
        "\n",
        "\n",
        "train(30000, batch_size=64, save_interval=200)"
      ],
      "execution_count": 14,
      "outputs": [
        {
          "output_type": "stream",
          "name": "stdout",
          "text": [
            "******* 230 57 [D loss: 0.007651, acc: 100.00%] [G loss: 6.923769]\n",
            "******* 230 58 [D loss: 0.017156, acc: 99.22%] [G loss: 7.407611]\n",
            "******* 230 59 [D loss: 0.044925, acc: 98.44%] [G loss: 7.034067]\n",
            "******* 230 60 [D loss: 0.030021, acc: 99.22%] [G loss: 6.921338]\n",
            "******* 230 61 [D loss: 0.029828, acc: 99.22%] [G loss: 5.959670]\n",
            "******* 230 62 [D loss: 0.043935, acc: 98.44%] [G loss: 6.882044]\n",
            "******* 230 63 [D loss: 0.011887, acc: 100.00%] [G loss: 6.658114]\n",
            "******* 230 64 [D loss: 0.013414, acc: 99.22%] [G loss: 7.888267]\n",
            "******* 230 65 [D loss: 0.082662, acc: 96.88%] [G loss: 7.090540]\n",
            "******* 230 66 [D loss: 0.022279, acc: 99.22%] [G loss: 7.111960]\n",
            "******* 230 67 [D loss: 0.023670, acc: 100.00%] [G loss: 7.429543]\n",
            "******* 230 68 [D loss: 0.024335, acc: 99.22%] [G loss: 6.663246]\n",
            "******* 230 69 [D loss: 0.067282, acc: 97.66%] [G loss: 6.584260]\n",
            "******* 230 70 [D loss: 0.031461, acc: 99.22%] [G loss: 8.051188]\n",
            "******* 230 71 [D loss: 0.015886, acc: 99.22%] [G loss: 9.049304]\n",
            "******* 230 72 [D loss: 0.005624, acc: 100.00%] [G loss: 10.647100]\n",
            "******* 230 73 [D loss: 0.007353, acc: 100.00%] [G loss: 11.070932]\n",
            "******* 230 74 [D loss: 0.085793, acc: 96.88%] [G loss: 9.982875]\n",
            "******* 231 0 [D loss: 0.013267, acc: 100.00%] [G loss: 7.470652]\n",
            "******* 231 1 [D loss: 0.049617, acc: 98.44%] [G loss: 7.273190]\n",
            "******* 231 2 [D loss: 0.019388, acc: 99.22%] [G loss: 7.806396]\n",
            "******* 231 3 [D loss: 0.002729, acc: 100.00%] [G loss: 9.039266]\n",
            "******* 231 4 [D loss: 0.014971, acc: 99.22%] [G loss: 9.855431]\n",
            "******* 231 5 [D loss: 0.027994, acc: 98.44%] [G loss: 9.187449]\n",
            "******* 231 6 [D loss: 0.024329, acc: 98.44%] [G loss: 8.512278]\n",
            "******* 231 7 [D loss: 0.005738, acc: 100.00%] [G loss: 8.127054]\n",
            "******* 231 8 [D loss: 0.011215, acc: 99.22%] [G loss: 7.612074]\n",
            "******* 231 9 [D loss: 0.008866, acc: 100.00%] [G loss: 7.316094]\n",
            "******* 231 10 [D loss: 0.003591, acc: 100.00%] [G loss: 7.329813]\n",
            "******* 231 11 [D loss: 0.010058, acc: 100.00%] [G loss: 7.435215]\n",
            "******* 231 12 [D loss: 0.008229, acc: 100.00%] [G loss: 8.194962]\n",
            "******* 231 13 [D loss: 0.016000, acc: 100.00%] [G loss: 8.506112]\n",
            "******* 231 14 [D loss: 0.004276, acc: 100.00%] [G loss: 9.049824]\n",
            "******* 231 15 [D loss: 0.029205, acc: 98.44%] [G loss: 8.289566]\n",
            "******* 231 16 [D loss: 0.008358, acc: 100.00%] [G loss: 8.360958]\n",
            "******* 231 17 [D loss: 0.022798, acc: 98.44%] [G loss: 7.788817]\n",
            "******* 231 18 [D loss: 0.037424, acc: 98.44%] [G loss: 8.296375]\n",
            "******* 231 19 [D loss: 0.022493, acc: 99.22%] [G loss: 8.931134]\n",
            "******* 231 20 [D loss: 0.014676, acc: 100.00%] [G loss: 9.100027]\n",
            "******* 231 21 [D loss: 0.119413, acc: 94.53%] [G loss: 7.814515]\n",
            "******* 231 22 [D loss: 0.035195, acc: 98.44%] [G loss: 7.158092]\n",
            "******* 231 23 [D loss: 0.045805, acc: 98.44%] [G loss: 5.731699]\n",
            "******* 231 24 [D loss: 0.017403, acc: 100.00%] [G loss: 5.865996]\n",
            "******* 231 25 [D loss: 0.101413, acc: 95.31%] [G loss: 6.689326]\n",
            "******* 231 26 [D loss: 0.002046, acc: 100.00%] [G loss: 9.896739]\n",
            "******* 231 27 [D loss: 0.109088, acc: 95.31%] [G loss: 10.639814]\n",
            "******* 231 28 [D loss: 0.184521, acc: 95.31%] [G loss: 5.994528]\n",
            "******* 231 29 [D loss: 0.079352, acc: 96.88%] [G loss: 5.446445]\n",
            "******* 231 30 [D loss: 0.077650, acc: 97.66%] [G loss: 6.125739]\n",
            "******* 231 31 [D loss: 0.015912, acc: 99.22%] [G loss: 8.158054]\n",
            "******* 231 32 [D loss: 0.038693, acc: 98.44%] [G loss: 9.533784]\n",
            "******* 231 33 [D loss: 0.020797, acc: 98.44%] [G loss: 10.330860]\n",
            "******* 231 34 [D loss: 0.032190, acc: 98.44%] [G loss: 9.338588]\n",
            "******* 231 35 [D loss: 0.032146, acc: 97.66%] [G loss: 9.012819]\n",
            "******* 231 36 [D loss: 0.004237, acc: 100.00%] [G loss: 9.054356]\n",
            "******* 231 37 [D loss: 0.003594, acc: 100.00%] [G loss: 7.805768]\n",
            "******* 231 38 [D loss: 0.007293, acc: 100.00%] [G loss: 7.367411]\n",
            "******* 231 39 [D loss: 0.009673, acc: 100.00%] [G loss: 6.933364]\n",
            "******* 231 40 [D loss: 0.007680, acc: 100.00%] [G loss: 7.515643]\n",
            "******* 231 41 [D loss: 0.071775, acc: 97.66%] [G loss: 7.943379]\n",
            "******* 231 42 [D loss: 0.009750, acc: 99.22%] [G loss: 9.647344]\n",
            "******* 231 43 [D loss: 0.077324, acc: 98.44%] [G loss: 9.419079]\n",
            "******* 231 44 [D loss: 0.045610, acc: 97.66%] [G loss: 8.100010]\n",
            "******* 231 45 [D loss: 0.009774, acc: 100.00%] [G loss: 7.311332]\n",
            "******* 231 46 [D loss: 0.049421, acc: 97.66%] [G loss: 5.648962]\n",
            "******* 231 47 [D loss: 0.083409, acc: 97.66%] [G loss: 5.773434]\n",
            "******* 231 48 [D loss: 0.026774, acc: 99.22%] [G loss: 6.984177]\n",
            "******* 231 49 [D loss: 0.004964, acc: 100.00%] [G loss: 7.362116]\n",
            "******* 231 50 [D loss: 0.051432, acc: 98.44%] [G loss: 8.483361]\n",
            "******* 231 51 [D loss: 0.053503, acc: 97.66%] [G loss: 7.095766]\n",
            "******* 231 52 [D loss: 0.029716, acc: 99.22%] [G loss: 6.667389]\n",
            "******* 231 53 [D loss: 0.018781, acc: 100.00%] [G loss: 7.405402]\n",
            "******* 231 54 [D loss: 0.025098, acc: 98.44%] [G loss: 7.338870]\n",
            "******* 231 55 [D loss: 0.018377, acc: 99.22%] [G loss: 7.860609]\n",
            "******* 231 56 [D loss: 0.021590, acc: 99.22%] [G loss: 7.410763]\n",
            "******* 231 57 [D loss: 0.023426, acc: 99.22%] [G loss: 6.991356]\n",
            "******* 231 58 [D loss: 0.006483, acc: 100.00%] [G loss: 6.709498]\n",
            "******* 231 59 [D loss: 0.051529, acc: 96.88%] [G loss: 8.499064]\n",
            "******* 231 60 [D loss: 0.002301, acc: 100.00%] [G loss: 9.594088]\n",
            "******* 231 61 [D loss: 0.015847, acc: 99.22%] [G loss: 9.720406]\n",
            "******* 231 62 [D loss: 0.022839, acc: 99.22%] [G loss: 9.660975]\n",
            "******* 231 63 [D loss: 0.034859, acc: 98.44%] [G loss: 7.984646]\n",
            "******* 231 64 [D loss: 0.065055, acc: 97.66%] [G loss: 7.455368]\n",
            "******* 231 65 [D loss: 0.017930, acc: 99.22%] [G loss: 7.175192]\n",
            "******* 231 66 [D loss: 0.015086, acc: 99.22%] [G loss: 6.914891]\n",
            "******* 231 67 [D loss: 0.010944, acc: 100.00%] [G loss: 6.828573]\n",
            "******* 231 68 [D loss: 0.015628, acc: 100.00%] [G loss: 7.004288]\n",
            "******* 231 69 [D loss: 0.039611, acc: 97.66%] [G loss: 7.075181]\n",
            "******* 231 70 [D loss: 0.010845, acc: 100.00%] [G loss: 8.342238]\n",
            "******* 231 71 [D loss: 0.003567, acc: 100.00%] [G loss: 8.902496]\n",
            "******* 231 72 [D loss: 0.008082, acc: 99.22%] [G loss: 10.149343]\n",
            "******* 231 73 [D loss: 0.036439, acc: 98.44%] [G loss: 10.690645]\n",
            "******* 231 74 [D loss: 0.000844, acc: 100.00%] [G loss: 10.308242]\n",
            "******* 232 0 [D loss: 0.021258, acc: 99.22%] [G loss: 10.053528]\n",
            "******* 232 1 [D loss: 0.009818, acc: 100.00%] [G loss: 9.257154]\n",
            "******* 232 2 [D loss: 0.005293, acc: 100.00%] [G loss: 8.845510]\n",
            "******* 232 3 [D loss: 0.011596, acc: 99.22%] [G loss: 8.170593]\n",
            "******* 232 4 [D loss: 0.010221, acc: 100.00%] [G loss: 8.648491]\n",
            "******* 232 5 [D loss: 0.011225, acc: 100.00%] [G loss: 8.910389]\n",
            "******* 232 6 [D loss: 0.019175, acc: 99.22%] [G loss: 9.112723]\n",
            "******* 232 7 [D loss: 0.004730, acc: 100.00%] [G loss: 8.500584]\n",
            "******* 232 8 [D loss: 0.013735, acc: 99.22%] [G loss: 8.045742]\n",
            "******* 232 9 [D loss: 0.055408, acc: 96.88%] [G loss: 7.320615]\n",
            "******* 232 10 [D loss: 0.051025, acc: 98.44%] [G loss: 7.338580]\n",
            "******* 232 11 [D loss: 0.037296, acc: 99.22%] [G loss: 8.130808]\n",
            "******* 232 12 [D loss: 0.033791, acc: 98.44%] [G loss: 9.044268]\n",
            "******* 232 13 [D loss: 0.062415, acc: 98.44%] [G loss: 9.564074]\n",
            "******* 232 14 [D loss: 0.036580, acc: 98.44%] [G loss: 11.572229]\n",
            "******* 232 15 [D loss: 0.070131, acc: 96.88%] [G loss: 10.770994]\n",
            "******* 232 16 [D loss: 0.058254, acc: 98.44%] [G loss: 7.978055]\n",
            "******* 232 17 [D loss: 0.088561, acc: 96.09%] [G loss: 7.393573]\n",
            "******* 232 18 [D loss: 0.122265, acc: 98.44%] [G loss: 7.562783]\n",
            "******* 232 19 [D loss: 0.066881, acc: 96.09%] [G loss: 9.225733]\n",
            "******* 232 20 [D loss: 0.033899, acc: 99.22%] [G loss: 10.051283]\n",
            "******* 232 21 [D loss: 0.010607, acc: 100.00%] [G loss: 9.503094]\n",
            "******* 232 22 [D loss: 0.059456, acc: 96.88%] [G loss: 9.368040]\n",
            "******* 232 23 [D loss: 0.040725, acc: 98.44%] [G loss: 8.655203]\n",
            "******* 232 24 [D loss: 0.004739, acc: 100.00%] [G loss: 9.054258]\n",
            "******* 232 25 [D loss: 0.011371, acc: 100.00%] [G loss: 8.558210]\n",
            "******* 232 26 [D loss: 0.014095, acc: 99.22%] [G loss: 8.740312]\n",
            "******* 232 27 [D loss: 0.088419, acc: 96.88%] [G loss: 7.199952]\n",
            "******* 232 28 [D loss: 0.015577, acc: 100.00%] [G loss: 5.806680]\n",
            "******* 232 29 [D loss: 0.049835, acc: 97.66%] [G loss: 7.346099]\n",
            "******* 232 30 [D loss: 0.041056, acc: 98.44%] [G loss: 8.100948]\n",
            "******* 232 31 [D loss: 0.051386, acc: 96.88%] [G loss: 7.859315]\n",
            "******* 232 32 [D loss: 0.025024, acc: 99.22%] [G loss: 8.649721]\n",
            "******* 232 33 [D loss: 0.032121, acc: 99.22%] [G loss: 7.641653]\n",
            "******* 232 34 [D loss: 0.080386, acc: 97.66%] [G loss: 6.268902]\n",
            "******* 232 35 [D loss: 0.130850, acc: 94.53%] [G loss: 7.059978]\n",
            "******* 232 36 [D loss: 0.057085, acc: 98.44%] [G loss: 9.590022]\n",
            "******* 232 37 [D loss: 0.037480, acc: 98.44%] [G loss: 10.535443]\n",
            "******* 232 38 [D loss: 0.094012, acc: 96.09%] [G loss: 7.648850]\n",
            "******* 232 39 [D loss: 0.016203, acc: 100.00%] [G loss: 5.850102]\n",
            "******* 232 40 [D loss: 0.084312, acc: 97.66%] [G loss: 6.177114]\n",
            "******* 232 41 [D loss: 0.034171, acc: 98.44%] [G loss: 9.365532]\n",
            "******* 232 42 [D loss: 0.001797, acc: 100.00%] [G loss: 10.799446]\n",
            "******* 232 43 [D loss: 0.021774, acc: 99.22%] [G loss: 11.908670]\n",
            "******* 232 44 [D loss: 0.129857, acc: 96.09%] [G loss: 10.758339]\n",
            "******* 232 45 [D loss: 0.134336, acc: 94.53%] [G loss: 8.641555]\n",
            "******* 232 46 [D loss: 0.039408, acc: 98.44%] [G loss: 7.402908]\n",
            "******* 232 47 [D loss: 0.034192, acc: 99.22%] [G loss: 7.001073]\n",
            "******* 232 48 [D loss: 0.089234, acc: 97.66%] [G loss: 7.877030]\n",
            "******* 232 49 [D loss: 0.008049, acc: 100.00%] [G loss: 10.271437]\n",
            "******* 232 50 [D loss: 0.002893, acc: 100.00%] [G loss: 12.371761]\n",
            "******* 232 51 [D loss: 0.025965, acc: 98.44%] [G loss: 11.869278]\n",
            "******* 232 52 [D loss: 0.004939, acc: 100.00%] [G loss: 11.359669]\n",
            "******* 232 53 [D loss: 0.051977, acc: 99.22%] [G loss: 10.776646]\n",
            "******* 232 54 [D loss: 0.003901, acc: 100.00%] [G loss: 8.982594]\n",
            "******* 232 55 [D loss: 0.007148, acc: 100.00%] [G loss: 8.485304]\n",
            "******* 232 56 [D loss: 0.094022, acc: 97.66%] [G loss: 7.964030]\n",
            "******* 232 57 [D loss: 0.016400, acc: 99.22%] [G loss: 8.346752]\n",
            "******* 232 58 [D loss: 0.001474, acc: 100.00%] [G loss: 7.901322]\n",
            "******* 232 59 [D loss: 0.008762, acc: 100.00%] [G loss: 7.949638]\n",
            "******* 232 60 [D loss: 0.013140, acc: 100.00%] [G loss: 7.556999]\n",
            "******* 232 61 [D loss: 0.017941, acc: 100.00%] [G loss: 7.580760]\n",
            "******* 232 62 [D loss: 0.012464, acc: 99.22%] [G loss: 6.715549]\n",
            "******* 232 63 [D loss: 0.031228, acc: 98.44%] [G loss: 6.803593]\n",
            "******* 232 64 [D loss: 0.020234, acc: 99.22%] [G loss: 7.084360]\n",
            "******* 232 65 [D loss: 0.042350, acc: 98.44%] [G loss: 6.994770]\n",
            "******* 232 66 [D loss: 0.043809, acc: 98.44%] [G loss: 7.043024]\n",
            "******* 232 67 [D loss: 0.063663, acc: 96.88%] [G loss: 7.182267]\n",
            "******* 232 68 [D loss: 0.079654, acc: 96.88%] [G loss: 7.425135]\n",
            "******* 232 69 [D loss: 0.010131, acc: 99.22%] [G loss: 9.778289]\n",
            "******* 232 70 [D loss: 0.035865, acc: 98.44%] [G loss: 9.014738]\n",
            "******* 232 71 [D loss: 0.017359, acc: 99.22%] [G loss: 9.209160]\n",
            "******* 232 72 [D loss: 0.019133, acc: 99.22%] [G loss: 8.567512]\n",
            "******* 232 73 [D loss: 0.007044, acc: 100.00%] [G loss: 7.921600]\n",
            "******* 232 74 [D loss: 0.049401, acc: 99.22%] [G loss: 7.083278]\n",
            "******* 233 0 [D loss: 0.036507, acc: 98.44%] [G loss: 7.248576]\n",
            "******* 233 1 [D loss: 0.027739, acc: 99.22%] [G loss: 7.909303]\n",
            "******* 233 2 [D loss: 0.003131, acc: 100.00%] [G loss: 9.124906]\n",
            "******* 233 3 [D loss: 0.019416, acc: 98.44%] [G loss: 8.546638]\n",
            "******* 233 4 [D loss: 0.025113, acc: 99.22%] [G loss: 8.900156]\n",
            "******* 233 5 [D loss: 0.005685, acc: 100.00%] [G loss: 8.793907]\n",
            "******* 233 6 [D loss: 0.017039, acc: 99.22%] [G loss: 8.321074]\n",
            "******* 233 7 [D loss: 0.095258, acc: 98.44%] [G loss: 7.489660]\n",
            "******* 233 8 [D loss: 0.026399, acc: 99.22%] [G loss: 7.130447]\n",
            "******* 233 9 [D loss: 0.038535, acc: 99.22%] [G loss: 6.436074]\n",
            "******* 233 10 [D loss: 0.024422, acc: 100.00%] [G loss: 7.035512]\n",
            "******* 233 11 [D loss: 0.008004, acc: 100.00%] [G loss: 7.085761]\n",
            "******* 233 12 [D loss: 0.007379, acc: 100.00%] [G loss: 7.557900]\n",
            "******* 233 13 [D loss: 0.067954, acc: 98.44%] [G loss: 8.005412]\n",
            "******* 233 14 [D loss: 0.065088, acc: 98.44%] [G loss: 8.411301]\n",
            "******* 233 15 [D loss: 0.017303, acc: 98.44%] [G loss: 7.380792]\n",
            "******* 233 16 [D loss: 0.038758, acc: 99.22%] [G loss: 7.746540]\n",
            "******* 233 17 [D loss: 0.065393, acc: 97.66%] [G loss: 7.981147]\n",
            "******* 233 18 [D loss: 0.029223, acc: 99.22%] [G loss: 8.399808]\n",
            "******* 233 19 [D loss: 0.050490, acc: 98.44%] [G loss: 8.294285]\n",
            "******* 233 20 [D loss: 0.017485, acc: 99.22%] [G loss: 8.065861]\n",
            "******* 233 21 [D loss: 0.081433, acc: 96.88%] [G loss: 6.972270]\n",
            "******* 233 22 [D loss: 0.028484, acc: 99.22%] [G loss: 6.442640]\n",
            "******* 233 23 [D loss: 0.012896, acc: 100.00%] [G loss: 6.986371]\n",
            "******* 233 24 [D loss: 0.004117, acc: 100.00%] [G loss: 6.933010]\n",
            "******* 233 25 [D loss: 0.072315, acc: 96.88%] [G loss: 6.711032]\n",
            "******* 233 26 [D loss: 0.013733, acc: 100.00%] [G loss: 7.126411]\n",
            "******* 233 27 [D loss: 0.002455, acc: 100.00%] [G loss: 8.013705]\n",
            "******* 233 28 [D loss: 0.002406, acc: 100.00%] [G loss: 8.888734]\n",
            "******* 233 29 [D loss: 0.016034, acc: 99.22%] [G loss: 9.077780]\n",
            "******* 233 30 [D loss: 0.036511, acc: 98.44%] [G loss: 7.916497]\n",
            "******* 233 31 [D loss: 0.017612, acc: 100.00%] [G loss: 7.912291]\n",
            "******* 233 32 [D loss: 0.009176, acc: 100.00%] [G loss: 8.022865]\n",
            "******* 233 33 [D loss: 0.017530, acc: 99.22%] [G loss: 8.189313]\n",
            "******* 233 34 [D loss: 0.004159, acc: 100.00%] [G loss: 9.014280]\n",
            "******* 233 35 [D loss: 0.016896, acc: 99.22%] [G loss: 8.832920]\n",
            "******* 233 36 [D loss: 0.002325, acc: 100.00%] [G loss: 8.730931]\n",
            "******* 233 37 [D loss: 0.007744, acc: 100.00%] [G loss: 9.544113]\n",
            "******* 233 38 [D loss: 0.030475, acc: 98.44%] [G loss: 9.638692]\n",
            "******* 233 39 [D loss: 0.078833, acc: 97.66%] [G loss: 8.330935]\n",
            "******* 233 40 [D loss: 0.011267, acc: 99.22%] [G loss: 7.483372]\n",
            "******* 233 41 [D loss: 0.029997, acc: 97.66%] [G loss: 8.036894]\n",
            "******* 233 42 [D loss: 0.032120, acc: 98.44%] [G loss: 8.439381]\n",
            "******* 233 43 [D loss: 0.043368, acc: 99.22%] [G loss: 8.763695]\n",
            "******* 233 44 [D loss: 0.040359, acc: 98.44%] [G loss: 9.001191]\n",
            "******* 233 45 [D loss: 0.040339, acc: 98.44%] [G loss: 8.329484]\n",
            "******* 233 46 [D loss: 0.086350, acc: 98.44%] [G loss: 7.811009]\n",
            "******* 233 47 [D loss: 0.002327, acc: 100.00%] [G loss: 7.982115]\n",
            "******* 233 48 [D loss: 0.024357, acc: 98.44%] [G loss: 8.223423]\n",
            "******* 233 49 [D loss: 0.057789, acc: 99.22%] [G loss: 7.533135]\n",
            "******* 233 50 [D loss: 0.002785, acc: 100.00%] [G loss: 6.901469]\n",
            "******* 233 51 [D loss: 0.009275, acc: 100.00%] [G loss: 7.143913]\n",
            "******* 233 52 [D loss: 0.019957, acc: 99.22%] [G loss: 7.087844]\n",
            "******* 233 53 [D loss: 0.114554, acc: 95.31%] [G loss: 5.811140]\n",
            "******* 233 54 [D loss: 0.116173, acc: 96.09%] [G loss: 6.170844]\n",
            "******* 233 55 [D loss: 0.002172, acc: 100.00%] [G loss: 8.330664]\n",
            "******* 233 56 [D loss: 0.005024, acc: 100.00%] [G loss: 10.014528]\n",
            "******* 233 57 [D loss: 0.044500, acc: 97.66%] [G loss: 9.126165]\n",
            "******* 233 58 [D loss: 0.118870, acc: 96.09%] [G loss: 8.145255]\n",
            "******* 233 59 [D loss: 0.003572, acc: 100.00%] [G loss: 7.474731]\n",
            "******* 233 60 [D loss: 0.012736, acc: 99.22%] [G loss: 7.021174]\n",
            "******* 233 61 [D loss: 0.027346, acc: 99.22%] [G loss: 7.565485]\n",
            "******* 233 62 [D loss: 0.020045, acc: 99.22%] [G loss: 7.608655]\n",
            "******* 233 63 [D loss: 0.112523, acc: 96.88%] [G loss: 7.900331]\n",
            "******* 233 64 [D loss: 0.018634, acc: 99.22%] [G loss: 10.041183]\n",
            "******* 233 65 [D loss: 0.060020, acc: 97.66%] [G loss: 10.303255]\n",
            "******* 233 66 [D loss: 0.062563, acc: 96.88%] [G loss: 9.009924]\n",
            "******* 233 67 [D loss: 0.022906, acc: 99.22%] [G loss: 9.209077]\n",
            "******* 233 68 [D loss: 0.036402, acc: 98.44%] [G loss: 8.329177]\n",
            "******* 233 69 [D loss: 0.040303, acc: 99.22%] [G loss: 7.877750]\n",
            "******* 233 70 [D loss: 0.070435, acc: 98.44%] [G loss: 8.585472]\n",
            "******* 233 71 [D loss: 0.049459, acc: 98.44%] [G loss: 9.969563]\n",
            "******* 233 72 [D loss: 0.014527, acc: 100.00%] [G loss: 9.374784]\n",
            "******* 233 73 [D loss: 0.018041, acc: 99.22%] [G loss: 8.961237]\n",
            "******* 233 74 [D loss: 0.089114, acc: 97.66%] [G loss: 6.673180]\n",
            "******* 234 0 [D loss: 0.034955, acc: 99.22%] [G loss: 5.759294]\n"
          ]
        },
        {
          "output_type": "error",
          "ename": "KeyboardInterrupt",
          "evalue": "ignored",
          "traceback": [
            "\u001b[0;31m---------------------------------------------------------------------------\u001b[0m",
            "\u001b[0;31mKeyboardInterrupt\u001b[0m                         Traceback (most recent call last)",
            "\u001b[0;32m<ipython-input-14-1429e7613df2>\u001b[0m in \u001b[0;36m<module>\u001b[0;34m()\u001b[0m\n\u001b[1;32m     53\u001b[0m \u001b[0;34m\u001b[0m\u001b[0m\n\u001b[1;32m     54\u001b[0m \u001b[0;34m\u001b[0m\u001b[0m\n\u001b[0;32m---> 55\u001b[0;31m \u001b[0mtrain\u001b[0m\u001b[0;34m(\u001b[0m\u001b[0;36m30000\u001b[0m\u001b[0;34m,\u001b[0m \u001b[0mbatch_size\u001b[0m\u001b[0;34m=\u001b[0m\u001b[0;36m64\u001b[0m\u001b[0;34m,\u001b[0m \u001b[0msave_interval\u001b[0m\u001b[0;34m=\u001b[0m\u001b[0;36m200\u001b[0m\u001b[0;34m)\u001b[0m\u001b[0;34m\u001b[0m\u001b[0;34m\u001b[0m\u001b[0m\n\u001b[0m",
            "\u001b[0;32m<ipython-input-14-1429e7613df2>\u001b[0m in \u001b[0;36mtrain\u001b[0;34m(epochs, batch_size, save_interval)\u001b[0m\n\u001b[1;32m     38\u001b[0m \u001b[0;34m\u001b[0m\u001b[0m\n\u001b[1;32m     39\u001b[0m       \u001b[0;31m#Train discriminator\u001b[0m\u001b[0;34m\u001b[0m\u001b[0;34m\u001b[0m\u001b[0;34m\u001b[0m\u001b[0m\n\u001b[0;32m---> 40\u001b[0;31m       \u001b[0md_loss_real\u001b[0m \u001b[0;34m=\u001b[0m \u001b[0mdiscriminator\u001b[0m\u001b[0;34m.\u001b[0m\u001b[0mtrain_on_batch\u001b[0m\u001b[0;34m(\u001b[0m\u001b[0mimgs\u001b[0m\u001b[0;34m,\u001b[0m \u001b[0mvalid\u001b[0m\u001b[0;34m)\u001b[0m\u001b[0;34m\u001b[0m\u001b[0;34m\u001b[0m\u001b[0m\n\u001b[0m\u001b[1;32m     41\u001b[0m       \u001b[0md_loss_fake\u001b[0m \u001b[0;34m=\u001b[0m \u001b[0mdiscriminator\u001b[0m\u001b[0;34m.\u001b[0m\u001b[0mtrain_on_batch\u001b[0m\u001b[0;34m(\u001b[0m\u001b[0mgen_imgs\u001b[0m\u001b[0;34m,\u001b[0m \u001b[0mfakes\u001b[0m\u001b[0;34m)\u001b[0m\u001b[0;34m\u001b[0m\u001b[0;34m\u001b[0m\u001b[0m\n\u001b[1;32m     42\u001b[0m       \u001b[0md_loss\u001b[0m \u001b[0;34m=\u001b[0m \u001b[0;36m0.5\u001b[0m \u001b[0;34m*\u001b[0m \u001b[0mnp\u001b[0m\u001b[0;34m.\u001b[0m\u001b[0madd\u001b[0m\u001b[0;34m(\u001b[0m\u001b[0md_loss_real\u001b[0m\u001b[0;34m,\u001b[0m \u001b[0md_loss_fake\u001b[0m\u001b[0;34m)\u001b[0m\u001b[0;34m\u001b[0m\u001b[0;34m\u001b[0m\u001b[0m\n",
            "\u001b[0;32m/usr/local/lib/python3.7/dist-packages/keras/engine/training.py\u001b[0m in \u001b[0;36mtrain_on_batch\u001b[0;34m(self, x, y, sample_weight, class_weight, reset_metrics, return_dict)\u001b[0m\n\u001b[1;32m   1900\u001b[0m       \u001b[0mlogs\u001b[0m \u001b[0;34m=\u001b[0m \u001b[0mself\u001b[0m\u001b[0;34m.\u001b[0m\u001b[0mtrain_function\u001b[0m\u001b[0;34m(\u001b[0m\u001b[0miterator\u001b[0m\u001b[0;34m)\u001b[0m\u001b[0;34m\u001b[0m\u001b[0;34m\u001b[0m\u001b[0m\n\u001b[1;32m   1901\u001b[0m \u001b[0;34m\u001b[0m\u001b[0m\n\u001b[0;32m-> 1902\u001b[0;31m     \u001b[0mlogs\u001b[0m \u001b[0;34m=\u001b[0m \u001b[0mtf_utils\u001b[0m\u001b[0;34m.\u001b[0m\u001b[0msync_to_numpy_or_python_type\u001b[0m\u001b[0;34m(\u001b[0m\u001b[0mlogs\u001b[0m\u001b[0;34m)\u001b[0m\u001b[0;34m\u001b[0m\u001b[0;34m\u001b[0m\u001b[0m\n\u001b[0m\u001b[1;32m   1903\u001b[0m     \u001b[0;32mif\u001b[0m \u001b[0mreturn_dict\u001b[0m\u001b[0;34m:\u001b[0m\u001b[0;34m\u001b[0m\u001b[0;34m\u001b[0m\u001b[0m\n\u001b[1;32m   1904\u001b[0m       \u001b[0;32mreturn\u001b[0m \u001b[0mlogs\u001b[0m\u001b[0;34m\u001b[0m\u001b[0;34m\u001b[0m\u001b[0m\n",
            "\u001b[0;32m/usr/local/lib/python3.7/dist-packages/keras/utils/tf_utils.py\u001b[0m in \u001b[0;36msync_to_numpy_or_python_type\u001b[0;34m(tensors)\u001b[0m\n\u001b[1;32m    552\u001b[0m     \u001b[0;32mreturn\u001b[0m \u001b[0mt\u001b[0m  \u001b[0;31m# Don't turn ragged or sparse tensors to NumPy.\u001b[0m\u001b[0;34m\u001b[0m\u001b[0;34m\u001b[0m\u001b[0m\n\u001b[1;32m    553\u001b[0m \u001b[0;34m\u001b[0m\u001b[0m\n\u001b[0;32m--> 554\u001b[0;31m   \u001b[0;32mreturn\u001b[0m \u001b[0mtf\u001b[0m\u001b[0;34m.\u001b[0m\u001b[0mnest\u001b[0m\u001b[0;34m.\u001b[0m\u001b[0mmap_structure\u001b[0m\u001b[0;34m(\u001b[0m\u001b[0m_to_single_numpy_or_python_type\u001b[0m\u001b[0;34m,\u001b[0m \u001b[0mtensors\u001b[0m\u001b[0;34m)\u001b[0m\u001b[0;34m\u001b[0m\u001b[0;34m\u001b[0m\u001b[0m\n\u001b[0m\u001b[1;32m    555\u001b[0m \u001b[0;34m\u001b[0m\u001b[0m\n\u001b[1;32m    556\u001b[0m \u001b[0;34m\u001b[0m\u001b[0m\n",
            "\u001b[0;32m/usr/local/lib/python3.7/dist-packages/tensorflow/python/util/nest.py\u001b[0m in \u001b[0;36mmap_structure\u001b[0;34m(func, *structure, **kwargs)\u001b[0m\n\u001b[1;32m    867\u001b[0m \u001b[0;34m\u001b[0m\u001b[0m\n\u001b[1;32m    868\u001b[0m   return pack_sequence_as(\n\u001b[0;32m--> 869\u001b[0;31m       \u001b[0mstructure\u001b[0m\u001b[0;34m[\u001b[0m\u001b[0;36m0\u001b[0m\u001b[0;34m]\u001b[0m\u001b[0;34m,\u001b[0m \u001b[0;34m[\u001b[0m\u001b[0mfunc\u001b[0m\u001b[0;34m(\u001b[0m\u001b[0;34m*\u001b[0m\u001b[0mx\u001b[0m\u001b[0;34m)\u001b[0m \u001b[0;32mfor\u001b[0m \u001b[0mx\u001b[0m \u001b[0;32min\u001b[0m \u001b[0mentries\u001b[0m\u001b[0;34m]\u001b[0m\u001b[0;34m,\u001b[0m\u001b[0;34m\u001b[0m\u001b[0;34m\u001b[0m\u001b[0m\n\u001b[0m\u001b[1;32m    870\u001b[0m       expand_composites=expand_composites)\n\u001b[1;32m    871\u001b[0m \u001b[0;34m\u001b[0m\u001b[0m\n",
            "\u001b[0;32m/usr/local/lib/python3.7/dist-packages/tensorflow/python/util/nest.py\u001b[0m in \u001b[0;36m<listcomp>\u001b[0;34m(.0)\u001b[0m\n\u001b[1;32m    867\u001b[0m \u001b[0;34m\u001b[0m\u001b[0m\n\u001b[1;32m    868\u001b[0m   return pack_sequence_as(\n\u001b[0;32m--> 869\u001b[0;31m       \u001b[0mstructure\u001b[0m\u001b[0;34m[\u001b[0m\u001b[0;36m0\u001b[0m\u001b[0;34m]\u001b[0m\u001b[0;34m,\u001b[0m \u001b[0;34m[\u001b[0m\u001b[0mfunc\u001b[0m\u001b[0;34m(\u001b[0m\u001b[0;34m*\u001b[0m\u001b[0mx\u001b[0m\u001b[0;34m)\u001b[0m \u001b[0;32mfor\u001b[0m \u001b[0mx\u001b[0m \u001b[0;32min\u001b[0m \u001b[0mentries\u001b[0m\u001b[0;34m]\u001b[0m\u001b[0;34m,\u001b[0m\u001b[0;34m\u001b[0m\u001b[0;34m\u001b[0m\u001b[0m\n\u001b[0m\u001b[1;32m    870\u001b[0m       expand_composites=expand_composites)\n\u001b[1;32m    871\u001b[0m \u001b[0;34m\u001b[0m\u001b[0m\n",
            "\u001b[0;32m/usr/local/lib/python3.7/dist-packages/keras/utils/tf_utils.py\u001b[0m in \u001b[0;36m_to_single_numpy_or_python_type\u001b[0;34m(t)\u001b[0m\n\u001b[1;32m    548\u001b[0m   \u001b[0;32mdef\u001b[0m \u001b[0m_to_single_numpy_or_python_type\u001b[0m\u001b[0;34m(\u001b[0m\u001b[0mt\u001b[0m\u001b[0;34m)\u001b[0m\u001b[0;34m:\u001b[0m\u001b[0;34m\u001b[0m\u001b[0;34m\u001b[0m\u001b[0m\n\u001b[1;32m    549\u001b[0m     \u001b[0;32mif\u001b[0m \u001b[0misinstance\u001b[0m\u001b[0;34m(\u001b[0m\u001b[0mt\u001b[0m\u001b[0;34m,\u001b[0m \u001b[0mtf\u001b[0m\u001b[0;34m.\u001b[0m\u001b[0mTensor\u001b[0m\u001b[0;34m)\u001b[0m\u001b[0;34m:\u001b[0m\u001b[0;34m\u001b[0m\u001b[0;34m\u001b[0m\u001b[0m\n\u001b[0;32m--> 550\u001b[0;31m       \u001b[0mx\u001b[0m \u001b[0;34m=\u001b[0m \u001b[0mt\u001b[0m\u001b[0;34m.\u001b[0m\u001b[0mnumpy\u001b[0m\u001b[0;34m(\u001b[0m\u001b[0;34m)\u001b[0m\u001b[0;34m\u001b[0m\u001b[0;34m\u001b[0m\u001b[0m\n\u001b[0m\u001b[1;32m    551\u001b[0m       \u001b[0;32mreturn\u001b[0m \u001b[0mx\u001b[0m\u001b[0;34m.\u001b[0m\u001b[0mitem\u001b[0m\u001b[0;34m(\u001b[0m\u001b[0;34m)\u001b[0m \u001b[0;32mif\u001b[0m \u001b[0mnp\u001b[0m\u001b[0;34m.\u001b[0m\u001b[0mndim\u001b[0m\u001b[0;34m(\u001b[0m\u001b[0mx\u001b[0m\u001b[0;34m)\u001b[0m \u001b[0;34m==\u001b[0m \u001b[0;36m0\u001b[0m \u001b[0;32melse\u001b[0m \u001b[0mx\u001b[0m\u001b[0;34m\u001b[0m\u001b[0;34m\u001b[0m\u001b[0m\n\u001b[1;32m    552\u001b[0m     \u001b[0;32mreturn\u001b[0m \u001b[0mt\u001b[0m  \u001b[0;31m# Don't turn ragged or sparse tensors to NumPy.\u001b[0m\u001b[0;34m\u001b[0m\u001b[0;34m\u001b[0m\u001b[0m\n",
            "\u001b[0;32m/usr/local/lib/python3.7/dist-packages/tensorflow/python/framework/ops.py\u001b[0m in \u001b[0;36mnumpy\u001b[0;34m(self)\u001b[0m\n\u001b[1;32m   1147\u001b[0m     \"\"\"\n\u001b[1;32m   1148\u001b[0m     \u001b[0;31m# TODO(slebedev): Consider avoiding a copy for non-CPU or remote tensors.\u001b[0m\u001b[0;34m\u001b[0m\u001b[0;34m\u001b[0m\u001b[0;34m\u001b[0m\u001b[0m\n\u001b[0;32m-> 1149\u001b[0;31m     \u001b[0mmaybe_arr\u001b[0m \u001b[0;34m=\u001b[0m \u001b[0mself\u001b[0m\u001b[0;34m.\u001b[0m\u001b[0m_numpy\u001b[0m\u001b[0;34m(\u001b[0m\u001b[0;34m)\u001b[0m  \u001b[0;31m# pylint: disable=protected-access\u001b[0m\u001b[0;34m\u001b[0m\u001b[0;34m\u001b[0m\u001b[0m\n\u001b[0m\u001b[1;32m   1150\u001b[0m     \u001b[0;32mreturn\u001b[0m \u001b[0mmaybe_arr\u001b[0m\u001b[0;34m.\u001b[0m\u001b[0mcopy\u001b[0m\u001b[0;34m(\u001b[0m\u001b[0;34m)\u001b[0m \u001b[0;32mif\u001b[0m \u001b[0misinstance\u001b[0m\u001b[0;34m(\u001b[0m\u001b[0mmaybe_arr\u001b[0m\u001b[0;34m,\u001b[0m \u001b[0mnp\u001b[0m\u001b[0;34m.\u001b[0m\u001b[0mndarray\u001b[0m\u001b[0;34m)\u001b[0m \u001b[0;32melse\u001b[0m \u001b[0mmaybe_arr\u001b[0m\u001b[0;34m\u001b[0m\u001b[0;34m\u001b[0m\u001b[0m\n\u001b[1;32m   1151\u001b[0m \u001b[0;34m\u001b[0m\u001b[0m\n",
            "\u001b[0;32m/usr/local/lib/python3.7/dist-packages/tensorflow/python/framework/ops.py\u001b[0m in \u001b[0;36m_numpy\u001b[0;34m(self)\u001b[0m\n\u001b[1;32m   1113\u001b[0m   \u001b[0;32mdef\u001b[0m \u001b[0m_numpy\u001b[0m\u001b[0;34m(\u001b[0m\u001b[0mself\u001b[0m\u001b[0;34m)\u001b[0m\u001b[0;34m:\u001b[0m\u001b[0;34m\u001b[0m\u001b[0;34m\u001b[0m\u001b[0m\n\u001b[1;32m   1114\u001b[0m     \u001b[0;32mtry\u001b[0m\u001b[0;34m:\u001b[0m\u001b[0;34m\u001b[0m\u001b[0;34m\u001b[0m\u001b[0m\n\u001b[0;32m-> 1115\u001b[0;31m       \u001b[0;32mreturn\u001b[0m \u001b[0mself\u001b[0m\u001b[0;34m.\u001b[0m\u001b[0m_numpy_internal\u001b[0m\u001b[0;34m(\u001b[0m\u001b[0;34m)\u001b[0m\u001b[0;34m\u001b[0m\u001b[0;34m\u001b[0m\u001b[0m\n\u001b[0m\u001b[1;32m   1116\u001b[0m     \u001b[0;32mexcept\u001b[0m \u001b[0mcore\u001b[0m\u001b[0;34m.\u001b[0m\u001b[0m_NotOkStatusException\u001b[0m \u001b[0;32mas\u001b[0m \u001b[0me\u001b[0m\u001b[0;34m:\u001b[0m  \u001b[0;31m# pylint: disable=protected-access\u001b[0m\u001b[0;34m\u001b[0m\u001b[0;34m\u001b[0m\u001b[0m\n\u001b[1;32m   1117\u001b[0m       \u001b[0;32mraise\u001b[0m \u001b[0mcore\u001b[0m\u001b[0;34m.\u001b[0m\u001b[0m_status_to_exception\u001b[0m\u001b[0;34m(\u001b[0m\u001b[0me\u001b[0m\u001b[0;34m)\u001b[0m \u001b[0;32mfrom\u001b[0m \u001b[0;32mNone\u001b[0m  \u001b[0;31m# pylint: disable=protected-access\u001b[0m\u001b[0;34m\u001b[0m\u001b[0;34m\u001b[0m\u001b[0m\n",
            "\u001b[0;31mKeyboardInterrupt\u001b[0m: "
          ]
        }
      ]
    },
    {
      "cell_type": "code",
      "metadata": {
        "id": "kT7_Wk-TS_n2"
      },
      "source": [
        "noise = np.random.normal(0, 1, (234, latent_dim))\n",
        "gen_imgs = generator.predict(noise)\n",
        "gen_imgs = (gen_imgs + 1) / 2.0\n",
        "# plt.imshow(gen_imgs[2])"
      ],
      "execution_count": 122,
      "outputs": []
    },
    {
      "cell_type": "code",
      "metadata": {
        "id": "GbWAZ1v_TdJd",
        "colab": {
          "base_uri": "https://localhost:8080/",
          "height": 285
        },
        "outputId": "e8ed9172-d460-487d-cdb2-b78b9dd67bfb"
      },
      "source": [
        "plt.imshow(gen_imgs[163])"
      ],
      "execution_count": 123,
      "outputs": [
        {
          "output_type": "execute_result",
          "data": {
            "text/plain": [
              "<matplotlib.image.AxesImage at 0x7f712da3ca10>"
            ]
          },
          "metadata": {},
          "execution_count": 123
        },
        {
          "output_type": "display_data",
          "data": {
            "image/png": "[encoded data removed]",
            "text/plain": [
              "<Figure size 432x288 with 1 Axes>"
            ]
          },
          "metadata": {
            "needs_background": "light"
          }
        }
      ]
    },
    {
      "cell_type": "code",
      "metadata": {
        "id": "P8YtpQpkRvRI"
      },
      "source": [
        "generator.save_weights(\"/content/drive/MyDrive/generator1hour.h5\")\n",
        "discriminator.save_weights(\"/content/drive/MyDrive/discriminator1hour.h5\")"
      ],
      "execution_count": 53,
      "outputs": []
    },
    {
      "cell_type": "markdown",
      "metadata": {
        "id": "po-jSQoN1Azl"
      },
      "source": [
        "### **8) Making GIF**"
      ]
    },
    {
      "cell_type": "code",
      "metadata": {
        "id": "XPShgQpg1EMy"
      },
      "source": [
        " #Display a single image using the epoch number\n",
        " def display_image(epoch_no):\n",
        "   return PIL.Image.open('generated_images/%.8f.png'.format(epoch_no))\n",
        "\n",
        "anim_file = 'paintgan.gif'\n",
        "\n",
        "with imageio.get_writer(anim_file, mode='I') as writer:\n",
        "  filenames = glob.glob('generated_images/*.png')\n",
        "  filenames = sorted(filenames)\n",
        "  for filename in filenames:\n",
        "    image = imageio.imread(filename)\n",
        "    writer.append_data(image)\n",
        "  image = imageio.imread(filename)\n",
        "  writer.append_data(image)"
      ],
      "execution_count": 104,
      "outputs": []
    },
    {
      "cell_type": "code",
      "metadata": {
        "id": "ogrmQ73ZR_Wi"
      },
      "source": [
        ""
      ],
      "execution_count": null,
      "outputs": []
    }
  ]
}